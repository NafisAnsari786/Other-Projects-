{
 "cells": [
  {
   "cell_type": "code",
   "execution_count": 1,
   "id": "d86d7cf4-1596-442d-848d-fbf53c8e2d0f",
   "metadata": {},
   "outputs": [],
   "source": [
    "import os, shutil"
   ]
  },
  {
   "cell_type": "code",
   "execution_count": 19,
   "id": "08d5ca61-7d7a-4861-96c7-2d452d5a77fa",
   "metadata": {},
   "outputs": [],
   "source": [
    "path=r\"C:/Users/Nafis Ansari/Desktop/Python Practice codes/Automatic file sorter in File Explorer/\""
   ]
  },
  {
   "cell_type": "code",
   "execution_count": 55,
   "id": "f3287a06-1541-481d-b75b-bc8fb30fd2b7",
   "metadata": {},
   "outputs": [
    {
     "name": "stdout",
     "output_type": "stream",
     "text": [
      "C:/Users/Nafis Ansari/Desktop/Python Practice codes/Automatic file sorter in File Explorer/csv files\n",
      "C:/Users/Nafis Ansari/Desktop/Python Practice codes/Automatic file sorter in File Explorer/image files\n",
      "C:/Users/Nafis Ansari/Desktop/Python Practice codes/Automatic file sorter in File Explorer/text files\n"
     ]
    }
   ],
   "source": [
    "file_name=os.listdir(path)\n",
    "file_name\n",
    "\n",
    "folder_names=['csv files','image files','text files']\n",
    "\n",
    "for folder in range(0,3):\n",
    "    if not os.path.exists(path + folder_names[folder]):\n",
    "        print(path+ folder_names[folder])\n",
    "        os.makedirs(path + folder_names[folder])\n",
    "        \n",
    "for file in file_name:\n",
    "    if '.csv' in file and not os.path.exists(path + 'csv files/' + file):\n",
    "        shutil.move(path+file , path + 'csv files/' + file )\n",
    "    if '.txt' in file and not os.path.exists(path + 'text files/' + file):\n",
    "        shutil.move(path+file , path + 'text files/' + file )\n",
    "    if '.jpg' in file and not os.path.exists(path + 'image files/' + file):\n",
    "        shutil.move(path + file, path + 'image files/' + file)\n"
   ]
  },
  {
   "cell_type": "code",
   "execution_count": null,
   "id": "c321ec59-d210-4a4c-9f16-fe4e10a4f52b",
   "metadata": {},
   "outputs": [],
   "source": []
  }
 ],
 "metadata": {
  "kernelspec": {
   "display_name": "Python 3 (ipykernel)",
   "language": "python",
   "name": "python3"
  },
  "language_info": {
   "codemirror_mode": {
    "name": "ipython",
    "version": 3
   },
   "file_extension": ".py",
   "mimetype": "text/x-python",
   "name": "python",
   "nbconvert_exporter": "python",
   "pygments_lexer": "ipython3",
   "version": "3.11.2"
  }
 },
 "nbformat": 4,
 "nbformat_minor": 5
}
