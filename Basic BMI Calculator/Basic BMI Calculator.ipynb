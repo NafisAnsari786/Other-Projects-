{
 "cells": [
  {
   "cell_type": "markdown",
   "id": "bb1fbf38-e665-4adb-b4ff-298e13ab7011",
   "metadata": {},
   "source": [
    "# Basic BMI Calcultor \n"
   ]
  },
  {
   "cell_type": "code",
   "execution_count": 4,
   "id": "4b78f6da-27e3-4262-9cdd-b1209f0c9c04",
   "metadata": {},
   "outputs": [
    {
     "name": "stdin",
     "output_type": "stream",
     "text": [
      "Enter your name :  Nafis\n",
      "Enter your weight in pounds :  145\n",
      "Enter your height in inches :  61\n"
     ]
    },
    {
     "name": "stdout",
     "output_type": "stream",
     "text": [
      "Your BMI is 27.39451760279495\n",
      "Nafis You are overweight. Consider working out 💪\n"
     ]
    }
   ],
   "source": [
    "name=input('Enter your name : ')\n",
    "weight=float(input(\"Enter your weight in pounds : \"))\n",
    "height=float(input(\"Enter your height in inches : \"))\n",
    "BMI = (weight * 703) / (height * height)\n",
    "\n",
    "print(f\"Your BMI is {BMI}\")\n",
    "\n",
    "if BMI>0:\n",
    "    if BMI <18.5:\n",
    "        print(name+\" You are underwieght.\")\n",
    "    elif BMI<=24.9:\n",
    "        print(name+\" You are normal wieght.\")\n",
    "    elif BMI<29.9:\n",
    "        print(name+\" You are overweight. Consider working out 💪\")\n",
    "    elif BMI<34.9:\n",
    "        print(name+\" You are obese. This is not good for your health 🤦‍♂️. \")\n",
    "    elif BMI<39.9:\n",
    "        print(name+\" You are going to explode one day ☠️\")\n",
    "    else:\n",
    "        print(name+\" Cardiac Arrest incoming, go see a Doctor ASAP! \")\n",
    "else:\n",
    "    print(\"Invalid Input\")\n"
   ]
  },
  {
   "cell_type": "code",
   "execution_count": null,
   "id": "b63dc866-ca07-4624-86ca-0c5276542001",
   "metadata": {},
   "outputs": [],
   "source": []
  }
 ],
 "metadata": {
  "kernelspec": {
   "display_name": "Python 3 (ipykernel)",
   "language": "python",
   "name": "python3"
  },
  "language_info": {
   "codemirror_mode": {
    "name": "ipython",
    "version": 3
   },
   "file_extension": ".py",
   "mimetype": "text/x-python",
   "name": "python",
   "nbconvert_exporter": "python",
   "pygments_lexer": "ipython3",
   "version": "3.11.2"
  }
 },
 "nbformat": 4,
 "nbformat_minor": 5
}
